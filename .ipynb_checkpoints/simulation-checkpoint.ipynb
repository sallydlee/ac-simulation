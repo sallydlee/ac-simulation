{
 "cells": [
  {
   "cell_type": "code",
   "execution_count": 3,
   "id": "c7199aa3-c0a8-4e78-a0e3-306fdd571c49",
   "metadata": {},
   "outputs": [
    {
     "name": "stdout",
     "output_type": "stream",
     "text": [
      "Collecting mesa\n",
      "  Obtaining dependency information for mesa from https://files.pythonhosted.org/packages/91/15/9f77f4d3e0d758db7d1ec34f5ef1e3396eaeba72168b253f9a3f51881520/mesa-3.1.4-py3-none-any.whl.metadata\n",
      "  Downloading mesa-3.1.4-py3-none-any.whl.metadata (10 kB)\n",
      "Requirement already satisfied: numpy in c:\\users\\sally\\anaconda3\\lib\\site-packages (from mesa) (1.24.3)\n",
      "Requirement already satisfied: pandas in c:\\users\\sally\\anaconda3\\lib\\site-packages (from mesa) (2.0.3)\n",
      "Requirement already satisfied: scipy in c:\\users\\sally\\anaconda3\\lib\\site-packages (from mesa) (1.11.1)\n",
      "Requirement already satisfied: tqdm in c:\\users\\sally\\anaconda3\\lib\\site-packages (from mesa) (4.65.0)\n",
      "Requirement already satisfied: python-dateutil>=2.8.2 in c:\\users\\sally\\anaconda3\\lib\\site-packages (from pandas->mesa) (2.8.2)\n",
      "Requirement already satisfied: pytz>=2020.1 in c:\\users\\sally\\anaconda3\\lib\\site-packages (from pandas->mesa) (2023.3.post1)\n",
      "Requirement already satisfied: tzdata>=2022.1 in c:\\users\\sally\\anaconda3\\lib\\site-packages (from pandas->mesa) (2023.3)\n",
      "Requirement already satisfied: colorama in c:\\users\\sally\\anaconda3\\lib\\site-packages (from tqdm->mesa) (0.4.6)\n",
      "Requirement already satisfied: six>=1.5 in c:\\users\\sally\\anaconda3\\lib\\site-packages (from python-dateutil>=2.8.2->pandas->mesa) (1.16.0)\n",
      "Downloading mesa-3.1.4-py3-none-any.whl (177 kB)\n",
      "   ---------------------------------------- 0.0/177.7 kB ? eta -:--:--\n",
      "   ---------------------------------------- 0.0/177.7 kB ? eta -:--:--\n",
      "   ---- ---------------------------------- 20.5/177.7 kB 640.0 kB/s eta 0:00:01\n",
      "   -------- ------------------------------ 41.0/177.7 kB 487.6 kB/s eta 0:00:01\n",
      "   ---------------------------------------- 177.7/177.7 kB 1.3 MB/s eta 0:00:00\n",
      "Installing collected packages: mesa\n",
      "Successfully installed mesa-3.1.4\n",
      "Note: you may need to restart the kernel to use updated packages.\n"
     ]
    }
   ],
   "source": [
    "# pip install mesa"
   ]
  },
  {
   "cell_type": "code",
   "execution_count": 5,
   "id": "098e17e2-96eb-443b-a86d-edd9e6d0cc8e",
   "metadata": {},
   "outputs": [],
   "source": [
    "from mesa import Agent"
   ]
  },
  {
   "cell_type": "code",
   "execution_count": 9,
   "id": "5ebfc403-7e78-46b3-8169-6d6d7ff06aea",
   "metadata": {},
   "outputs": [],
   "source": [
    "class Villager(Agent):\n",
    "    M_PERSONALITY = {\n",
    "        \"lazy\": {\"wake_time\": 8, \"sleep_time\": 23, \"preferred_activity\": \"eating\"},\n",
    "        \"jock\": {\"wake_time\": 7, \"sleep_time\": 1, \"preferred_activity\": \"exercising\"},\n",
    "        \"cranky\": {\"wake_time\": 9, \"sleep_time\": 4, \"preferred_activity\": \"walking\"},\n",
    "        \"smug\": {\"wake_time\": 7, \"sleep_time\": 2, \"preferred_activity\": \"walking\"}\n",
    "    }\n",
    "    F_PERSONALITY = {\n",
    "        \"normal\": {\"wake_time\": 6, \"sleep_time\": 24, \"preferred_activity\": \"socializing\"},\n",
    "        \"peppy\": {\"wake_time\": 7, \"sleep_time\": 2, \"preferred_activity\": \"working\"},\n",
    "        \"snooty\": {\"wake_time\": 9, \"sleep_time\": 3, \"preferred_activity\": \"conflict\"},\n",
    "        \"sisterly\": {\"wake_time\": 10, \"sleep_time\": 3, \"preferred_activity\": \"walking\"}\n",
    "    }\n",
    "    \n",
    "    def __init__(self, unique_id, model):\n",
    "        super().__init__(unique_id, model)\n",
    "        self.state = \"idle\"\n",
    "        \n",
    "        # Assign a random gender\n",
    "        self.gender = random.choice([\"male\", \"female\"])\n",
    "\n",
    "        # Assign random personality\n",
    "        if self.gender == \"male\"\n",
    "            self.personality = random.choice(list(self.M_PERSONALITY.keys()))\n",
    "        elif self.gender == \"female\"\n",
    "            self.personality = random.choice(list(self.F_PERSONALITY.keys()))"
   ]
  },
  {
   "cell_type": "code",
   "execution_count": null,
   "id": "f05147a0-f0ae-4ed2-804a-0f38f2ed8ec0",
   "metadata": {},
   "outputs": [],
   "source": []
  }
 ],
 "metadata": {
  "kernelspec": {
   "display_name": "Python [conda env:base] *",
   "language": "python",
   "name": "conda-base-py"
  },
  "language_info": {
   "codemirror_mode": {
    "name": "ipython",
    "version": 3
   },
   "file_extension": ".py",
   "mimetype": "text/x-python",
   "name": "python",
   "nbconvert_exporter": "python",
   "pygments_lexer": "ipython3",
   "version": "3.11.5"
  }
 },
 "nbformat": 4,
 "nbformat_minor": 5
}
